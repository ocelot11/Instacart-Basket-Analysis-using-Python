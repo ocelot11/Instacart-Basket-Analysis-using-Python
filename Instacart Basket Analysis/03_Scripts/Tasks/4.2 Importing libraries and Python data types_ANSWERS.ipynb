{
 "cells": [
  {
   "cell_type": "markdown",
   "id": "f33cc69a",
   "metadata": {},
   "source": [
    "#01. Importing Libraries"
   ]
  },
  {
   "cell_type": "code",
   "execution_count": 1,
   "id": "eb2e3e99",
   "metadata": {},
   "outputs": [],
   "source": [
    "# Import libraties\n",
    "import pandas as pd\n",
    "import numpy as np\n",
    "import os"
   ]
  },
  {
   "cell_type": "markdown",
   "id": "fc426bfd",
   "metadata": {},
   "source": [
    "#02. Python Data types"
   ]
  },
  {
   "cell_type": "markdown",
   "id": "d67d4e6d",
   "metadata": {},
   "source": [
    "3 Ways of reaching a result of 100"
   ]
  },
  {
   "cell_type": "code",
   "execution_count": 3,
   "id": "daa7168b",
   "metadata": {},
   "outputs": [],
   "source": [
    "x = 55"
   ]
  },
  {
   "cell_type": "code",
   "execution_count": 4,
   "id": "04102e44",
   "metadata": {},
   "outputs": [],
   "source": [
    "y = 45"
   ]
  },
  {
   "cell_type": "code",
   "execution_count": 5,
   "id": "65c7fcbe",
   "metadata": {},
   "outputs": [
    {
     "data": {
      "text/plain": [
       "100"
      ]
     },
     "execution_count": 5,
     "metadata": {},
     "output_type": "execute_result"
    }
   ],
   "source": [
    "x + y"
   ]
  },
  {
   "cell_type": "code",
   "execution_count": 6,
   "id": "8b1bdb33",
   "metadata": {},
   "outputs": [],
   "source": [
    "a = 20"
   ]
  },
  {
   "cell_type": "code",
   "execution_count": 7,
   "id": "39f08b0f",
   "metadata": {},
   "outputs": [],
   "source": [
    "b = 5"
   ]
  },
  {
   "cell_type": "code",
   "execution_count": 8,
   "id": "6367c374",
   "metadata": {},
   "outputs": [
    {
     "data": {
      "text/plain": [
       "100"
      ]
     },
     "execution_count": 8,
     "metadata": {},
     "output_type": "execute_result"
    }
   ],
   "source": [
    "a * b"
   ]
  },
  {
   "cell_type": "code",
   "execution_count": 9,
   "id": "d301199e",
   "metadata": {},
   "outputs": [],
   "source": [
    "z = 10"
   ]
  },
  {
   "cell_type": "code",
   "execution_count": 11,
   "id": "c512a814",
   "metadata": {},
   "outputs": [
    {
     "data": {
      "text/plain": [
       "100"
      ]
     },
     "execution_count": 11,
     "metadata": {},
     "output_type": "execute_result"
    }
   ],
   "source": [
    "z ** 2"
   ]
  },
  {
   "cell_type": "markdown",
   "id": "370343d8",
   "metadata": {},
   "source": [
    "Division of two floating-point variables"
   ]
  },
  {
   "cell_type": "code",
   "execution_count": 12,
   "id": "1e4c85a1",
   "metadata": {},
   "outputs": [],
   "source": [
    "float_1 = 22.012345"
   ]
  },
  {
   "cell_type": "code",
   "execution_count": 13,
   "id": "61669a52",
   "metadata": {},
   "outputs": [],
   "source": [
    "float_2 = 6.998765"
   ]
  },
  {
   "cell_type": "code",
   "execution_count": 16,
   "id": "ec09c6dd",
   "metadata": {},
   "outputs": [],
   "source": [
    "pie = float_1/float_2"
   ]
  },
  {
   "cell_type": "code",
   "execution_count": 17,
   "id": "aebcb8f5",
   "metadata": {},
   "outputs": [
    {
     "name": "stdout",
     "output_type": "stream",
     "text": [
      "3.14517561312603\n"
     ]
    }
   ],
   "source": [
    "print(pie)"
   ]
  },
  {
   "cell_type": "markdown",
   "id": "01ab3511",
   "metadata": {},
   "source": [
    "Strings"
   ]
  },
  {
   "cell_type": "code",
   "execution_count": 19,
   "id": "5d55bd7b",
   "metadata": {},
   "outputs": [],
   "source": [
    "string_1 = 'Career'"
   ]
  },
  {
   "cell_type": "code",
   "execution_count": 20,
   "id": "be1a7d77",
   "metadata": {},
   "outputs": [],
   "source": [
    "string_2 = 'Foundry'"
   ]
  },
  {
   "cell_type": "code",
   "execution_count": 21,
   "id": "2680e8fa",
   "metadata": {},
   "outputs": [],
   "source": [
    "word = string_1 + string_2"
   ]
  },
  {
   "cell_type": "code",
   "execution_count": 22,
   "id": "3a4fd844",
   "metadata": {},
   "outputs": [
    {
     "name": "stdout",
     "output_type": "stream",
     "text": [
      "CareerFoundry\n"
     ]
    }
   ],
   "source": [
    "print(word)"
   ]
  },
  {
   "cell_type": "code",
   "execution_count": 30,
   "id": "952dce21",
   "metadata": {},
   "outputs": [],
   "source": [
    "sentence_1 = \"That's my secret, Captain. \""
   ]
  },
  {
   "cell_type": "code",
   "execution_count": 31,
   "id": "a3adc1b0",
   "metadata": {},
   "outputs": [],
   "source": [
    "sentence_2 = \"I'm always angry.\""
   ]
  },
  {
   "cell_type": "code",
   "execution_count": 32,
   "id": "40f06330",
   "metadata": {},
   "outputs": [],
   "source": [
    "dialogue = sentence_1 + sentence_2"
   ]
  },
  {
   "cell_type": "code",
   "execution_count": 33,
   "id": "d5711628",
   "metadata": {},
   "outputs": [
    {
     "name": "stdout",
     "output_type": "stream",
     "text": [
      "That's my secret, Captain. I'm always angry.\n"
     ]
    }
   ],
   "source": [
    "print(dialogue)"
   ]
  }
 ],
 "metadata": {
  "kernelspec": {
   "display_name": "Python 3 (ipykernel)",
   "language": "python",
   "name": "python3"
  },
  "language_info": {
   "codemirror_mode": {
    "name": "ipython",
    "version": 3
   },
   "file_extension": ".py",
   "mimetype": "text/x-python",
   "name": "python",
   "nbconvert_exporter": "python",
   "pygments_lexer": "ipython3",
   "version": "3.9.13"
  }
 },
 "nbformat": 4,
 "nbformat_minor": 5
}
