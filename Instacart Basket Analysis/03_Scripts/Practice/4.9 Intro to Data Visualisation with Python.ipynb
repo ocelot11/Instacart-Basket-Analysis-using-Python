{
 "cells": [
  {
   "cell_type": "markdown",
   "id": "3f84b673",
   "metadata": {},
   "source": [
    "#01. Importing Libraries"
   ]
  },
  {
   "cell_type": "code",
   "execution_count": 1,
   "id": "a077f53d",
   "metadata": {},
   "outputs": [],
   "source": [
    "import pandas as pd\n",
    "import numpy as np\n",
    "import os\n",
    "import matplotlib.pyplot as plt\n",
    "import seaborn as sns\n",
    "import scipy"
   ]
  },
  {
   "cell_type": "code",
   "execution_count": 2,
   "id": "813e562f",
   "metadata": {},
   "outputs": [],
   "source": [
    "path_name = r'/Users/geetika/Documents/Python/Instacart Basket Analysis'"
   ]
  },
  {
   "cell_type": "code",
   "execution_count": 3,
   "id": "f1a34c6b",
   "metadata": {},
   "outputs": [],
   "source": [
    "ords_prods_merge = pd.read_pickle(os.path.join(path_name, '02_Data', 'Prepared Data', 'ords_prods_merge_E4.8.pkl'))"
   ]
  },
  {
   "cell_type": "code",
   "execution_count": 4,
   "id": "6e62d93b",
   "metadata": {},
   "outputs": [
    {
     "data": {
      "text/html": [
       "<div>\n",
       "<style scoped>\n",
       "    .dataframe tbody tr th:only-of-type {\n",
       "        vertical-align: middle;\n",
       "    }\n",
       "\n",
       "    .dataframe tbody tr th {\n",
       "        vertical-align: top;\n",
       "    }\n",
       "\n",
       "    .dataframe thead th {\n",
       "        text-align: right;\n",
       "    }\n",
       "</style>\n",
       "<table border=\"1\" class=\"dataframe\">\n",
       "  <thead>\n",
       "    <tr style=\"text-align: right;\">\n",
       "      <th></th>\n",
       "      <th>order_id</th>\n",
       "      <th>user_id</th>\n",
       "      <th>order_number</th>\n",
       "      <th>orders_day_of_week</th>\n",
       "      <th>order_hour_of_day</th>\n",
       "      <th>days_since_prior_order</th>\n",
       "      <th>product_id</th>\n",
       "      <th>add_to_cart_order</th>\n",
       "      <th>reordered</th>\n",
       "      <th>product_name</th>\n",
       "      <th>aisle_id</th>\n",
       "      <th>department_id</th>\n",
       "      <th>prices</th>\n",
       "      <th>_merge</th>\n",
       "      <th>max_order</th>\n",
       "      <th>loyalty_flag</th>\n",
       "      <th>mean_price_of_products</th>\n",
       "      <th>spending_flag</th>\n",
       "      <th>median_days_since_prior_order</th>\n",
       "      <th>Regularity_of_customer</th>\n",
       "    </tr>\n",
       "  </thead>\n",
       "  <tbody>\n",
       "    <tr>\n",
       "      <th>0</th>\n",
       "      <td>2539329</td>\n",
       "      <td>1</td>\n",
       "      <td>1</td>\n",
       "      <td>2</td>\n",
       "      <td>8</td>\n",
       "      <td>NaN</td>\n",
       "      <td>196</td>\n",
       "      <td>1</td>\n",
       "      <td>0</td>\n",
       "      <td>Soda</td>\n",
       "      <td>77</td>\n",
       "      <td>7</td>\n",
       "      <td>9.0</td>\n",
       "      <td>both</td>\n",
       "      <td>10</td>\n",
       "      <td>New customer</td>\n",
       "      <td>6.367797</td>\n",
       "      <td>Low spender</td>\n",
       "      <td>20.5</td>\n",
       "      <td>Non-frequent customer</td>\n",
       "    </tr>\n",
       "    <tr>\n",
       "      <th>1</th>\n",
       "      <td>2398795</td>\n",
       "      <td>1</td>\n",
       "      <td>2</td>\n",
       "      <td>3</td>\n",
       "      <td>7</td>\n",
       "      <td>15.0</td>\n",
       "      <td>196</td>\n",
       "      <td>1</td>\n",
       "      <td>1</td>\n",
       "      <td>Soda</td>\n",
       "      <td>77</td>\n",
       "      <td>7</td>\n",
       "      <td>9.0</td>\n",
       "      <td>both</td>\n",
       "      <td>10</td>\n",
       "      <td>New customer</td>\n",
       "      <td>6.367797</td>\n",
       "      <td>Low spender</td>\n",
       "      <td>20.5</td>\n",
       "      <td>Non-frequent customer</td>\n",
       "    </tr>\n",
       "    <tr>\n",
       "      <th>2</th>\n",
       "      <td>473747</td>\n",
       "      <td>1</td>\n",
       "      <td>3</td>\n",
       "      <td>3</td>\n",
       "      <td>12</td>\n",
       "      <td>21.0</td>\n",
       "      <td>196</td>\n",
       "      <td>1</td>\n",
       "      <td>1</td>\n",
       "      <td>Soda</td>\n",
       "      <td>77</td>\n",
       "      <td>7</td>\n",
       "      <td>9.0</td>\n",
       "      <td>both</td>\n",
       "      <td>10</td>\n",
       "      <td>New customer</td>\n",
       "      <td>6.367797</td>\n",
       "      <td>Low spender</td>\n",
       "      <td>20.5</td>\n",
       "      <td>Non-frequent customer</td>\n",
       "    </tr>\n",
       "    <tr>\n",
       "      <th>3</th>\n",
       "      <td>2254736</td>\n",
       "      <td>1</td>\n",
       "      <td>4</td>\n",
       "      <td>4</td>\n",
       "      <td>7</td>\n",
       "      <td>29.0</td>\n",
       "      <td>196</td>\n",
       "      <td>1</td>\n",
       "      <td>1</td>\n",
       "      <td>Soda</td>\n",
       "      <td>77</td>\n",
       "      <td>7</td>\n",
       "      <td>9.0</td>\n",
       "      <td>both</td>\n",
       "      <td>10</td>\n",
       "      <td>New customer</td>\n",
       "      <td>6.367797</td>\n",
       "      <td>Low spender</td>\n",
       "      <td>20.5</td>\n",
       "      <td>Non-frequent customer</td>\n",
       "    </tr>\n",
       "    <tr>\n",
       "      <th>4</th>\n",
       "      <td>431534</td>\n",
       "      <td>1</td>\n",
       "      <td>5</td>\n",
       "      <td>4</td>\n",
       "      <td>15</td>\n",
       "      <td>28.0</td>\n",
       "      <td>196</td>\n",
       "      <td>1</td>\n",
       "      <td>1</td>\n",
       "      <td>Soda</td>\n",
       "      <td>77</td>\n",
       "      <td>7</td>\n",
       "      <td>9.0</td>\n",
       "      <td>both</td>\n",
       "      <td>10</td>\n",
       "      <td>New customer</td>\n",
       "      <td>6.367797</td>\n",
       "      <td>Low spender</td>\n",
       "      <td>20.5</td>\n",
       "      <td>Non-frequent customer</td>\n",
       "    </tr>\n",
       "  </tbody>\n",
       "</table>\n",
       "</div>"
      ],
      "text/plain": [
       "   order_id  user_id  order_number  orders_day_of_week  order_hour_of_day  \\\n",
       "0   2539329        1             1                   2                  8   \n",
       "1   2398795        1             2                   3                  7   \n",
       "2    473747        1             3                   3                 12   \n",
       "3   2254736        1             4                   4                  7   \n",
       "4    431534        1             5                   4                 15   \n",
       "\n",
       "   days_since_prior_order  product_id  add_to_cart_order  reordered  \\\n",
       "0                     NaN         196                  1          0   \n",
       "1                    15.0         196                  1          1   \n",
       "2                    21.0         196                  1          1   \n",
       "3                    29.0         196                  1          1   \n",
       "4                    28.0         196                  1          1   \n",
       "\n",
       "  product_name  aisle_id  department_id  prices _merge  max_order  \\\n",
       "0         Soda        77              7     9.0   both         10   \n",
       "1         Soda        77              7     9.0   both         10   \n",
       "2         Soda        77              7     9.0   both         10   \n",
       "3         Soda        77              7     9.0   both         10   \n",
       "4         Soda        77              7     9.0   both         10   \n",
       "\n",
       "   loyalty_flag  mean_price_of_products spending_flag  \\\n",
       "0  New customer                6.367797   Low spender   \n",
       "1  New customer                6.367797   Low spender   \n",
       "2  New customer                6.367797   Low spender   \n",
       "3  New customer                6.367797   Low spender   \n",
       "4  New customer                6.367797   Low spender   \n",
       "\n",
       "   median_days_since_prior_order Regularity_of_customer  \n",
       "0                           20.5  Non-frequent customer  \n",
       "1                           20.5  Non-frequent customer  \n",
       "2                           20.5  Non-frequent customer  \n",
       "3                           20.5  Non-frequent customer  \n",
       "4                           20.5  Non-frequent customer  "
      ]
     },
     "execution_count": 4,
     "metadata": {},
     "output_type": "execute_result"
    }
   ],
   "source": [
    "ords_prods_merge.head()"
   ]
  },
  {
   "cell_type": "code",
   "execution_count": 5,
   "id": "edbccd0e",
   "metadata": {},
   "outputs": [
    {
     "data": {
      "text/plain": [
       "(32434212, 20)"
      ]
     },
     "execution_count": 5,
     "metadata": {},
     "output_type": "execute_result"
    }
   ],
   "source": [
    "ords_prods_merge.shape"
   ]
  },
  {
   "cell_type": "markdown",
   "id": "2a7796c8",
   "metadata": {},
   "source": [
    "#02. Creating Bar Charts"
   ]
  },
  {
   "cell_type": "code",
   "execution_count": 6,
   "id": "f13fce45",
   "metadata": {},
   "outputs": [
    {
     "data": {
      "text/plain": [
       "<AxesSubplot:>"
      ]
     },
     "execution_count": 6,
     "metadata": {},
     "output_type": "execute_result"
    },
    {
     "data": {
      "image/png": "[encoded data removed]",
      "text/plain": [
       "<Figure size 640x480 with 1 Axes>"
      ]
     },
     "metadata": {},
     "output_type": "display_data"
    }
   ],
   "source": [
    "ords_prods_merge['orders_day_of_week'].value_counts().plot.bar()"
   ]
  },
  {
   "cell_type": "code",
   "execution_count": 7,
   "id": "2b873995",
   "metadata": {},
   "outputs": [
    {
     "data": {
      "image/png": "[encoded data removed]",
      "text/plain": [
       "<Figure size 640x480 with 1 Axes>"
      ]
     },
     "metadata": {},
     "output_type": "display_data"
    }
   ],
   "source": [
    "bar = ords_prods_merge['orders_day_of_week'].value_counts().sort_index().plot.bar()"
   ]
  },
  {
   "cell_type": "code",
   "execution_count": 8,
   "id": "d4976e28",
   "metadata": {},
   "outputs": [
    {
     "data": {
      "text/plain": [
       "0    6209632\n",
       "1    5665830\n",
       "6    4500246\n",
       "2    4217766\n",
       "5    4209449\n",
       "3    3844096\n",
       "4    3787193\n",
       "Name: orders_day_of_week, dtype: int64"
      ]
     },
     "execution_count": 8,
     "metadata": {},
     "output_type": "execute_result"
    }
   ],
   "source": [
    "ords_prods_merge['orders_day_of_week'].value_counts()"
   ]
  },
  {
   "cell_type": "code",
   "execution_count": 9,
   "id": "09561c85",
   "metadata": {},
   "outputs": [
    {
     "data": {
      "text/plain": [
       "0    6209632\n",
       "1    5665830\n",
       "2    4217766\n",
       "3    3844096\n",
       "4    3787193\n",
       "5    4209449\n",
       "6    4500246\n",
       "Name: orders_day_of_week, dtype: int64"
      ]
     },
     "execution_count": 9,
     "metadata": {},
     "output_type": "execute_result"
    }
   ],
   "source": [
    "ords_prods_merge['orders_day_of_week'].value_counts().sort_index()"
   ]
  },
  {
   "cell_type": "code",
   "execution_count": 10,
   "id": "e5414696",
   "metadata": {},
   "outputs": [],
   "source": [
    "bar.figure.savefig(os.path.join(path_name, '04_Analysis', 'Visualizations', 'blue_bar_orders_dow.png'))"
   ]
  },
  {
   "cell_type": "code",
   "execution_count": 37,
   "id": "b6615892",
   "metadata": {},
   "outputs": [
    {
     "data": {
      "image/png": "[encoded data removed]",
      "text/plain": [
       "<Figure size 640x480 with 1 Axes>"
      ]
     },
     "metadata": {},
     "output_type": "display_data"
    }
   ],
   "source": [
    "bar = ords_prods_merge['orders_day_of_week'].value_counts().plot.bar(color = ['purple', 'red', 'pink', 'yellow', 'green', 'blue'])\n",
    "#rainbow = ['purple', 'red', 'pink', 'yellow', 'green', 'blue']\n",
    "#bar = ords_prods_merge['orders_day_of_week'].value_counts().plot.bar(color = rainbow)"
   ]
  },
  {
   "cell_type": "code",
   "execution_count": 57,
   "id": "d3788768",
   "metadata": {},
   "outputs": [],
   "source": [
    "# Exporting the bar chart\n",
    "bar.figure.savefig(os.path.join(path_name, '04_Analysis', 'Visualizations', 'bar_orders_dow.png'))"
   ]
  },
  {
   "cell_type": "markdown",
   "id": "a1f621d7",
   "metadata": {},
   "source": [
    "#03. Historgrams and Scatterplots"
   ]
  },
  {
   "cell_type": "code",
   "execution_count": 39,
   "id": "48a5de70",
   "metadata": {},
   "outputs": [
    {
     "data": {
      "text/plain": [
       "<AxesSubplot:ylabel='Frequency'>"
      ]
     },
     "execution_count": 39,
     "metadata": {},
     "output_type": "execute_result"
    },
    {
     "data": {
      "image/png": "[encoded data removed]",
      "text/plain": [
       "<Figure size 640x480 with 1 Axes>"
      ]
     },
     "metadata": {},
     "output_type": "display_data"
    }
   ],
   "source": [
    "ords_prods_merge['prices'].plot.hist(bins = 25)"
   ]
  },
  {
   "cell_type": "code",
   "execution_count": 40,
   "id": "5577ea8b",
   "metadata": {},
   "outputs": [
    {
     "data": {
      "text/plain": [
       "count    3.243421e+07\n",
       "mean     1.198114e+01\n",
       "std      4.954311e+02\n",
       "min      1.000000e+00\n",
       "25%      4.200000e+00\n",
       "50%      7.400000e+00\n",
       "75%      1.130000e+01\n",
       "max      9.999900e+04\n",
       "Name: prices, dtype: float64"
      ]
     },
     "execution_count": 40,
     "metadata": {},
     "output_type": "execute_result"
    }
   ],
   "source": [
    "ords_prods_merge['prices'].describe()"
   ]
  },
  {
   "cell_type": "code",
   "execution_count": 41,
   "id": "eb248430",
   "metadata": {},
   "outputs": [
    {
     "data": {
      "text/plain": [
       "11.981143923057092"
      ]
     },
     "execution_count": 41,
     "metadata": {},
     "output_type": "execute_result"
    }
   ],
   "source": [
    "ords_prods_merge['prices'].mean()"
   ]
  },
  {
   "cell_type": "code",
   "execution_count": 42,
   "id": "07788eaf",
   "metadata": {},
   "outputs": [
    {
     "data": {
      "text/plain": [
       "7.4"
      ]
     },
     "execution_count": 42,
     "metadata": {},
     "output_type": "execute_result"
    }
   ],
   "source": [
    "ords_prods_merge['prices'].median()"
   ]
  },
  {
   "cell_type": "code",
   "execution_count": 44,
   "id": "4ef1672a",
   "metadata": {},
   "outputs": [
    {
     "data": {
      "text/plain": [
       "99999.0"
      ]
     },
     "execution_count": 44,
     "metadata": {},
     "output_type": "execute_result"
    }
   ],
   "source": [
    "ords_prods_merge['prices'].max()"
   ]
  },
  {
   "cell_type": "code",
   "execution_count": 43,
   "id": "5f33710f",
   "metadata": {},
   "outputs": [
    {
     "data": {
      "text/plain": [
       "<AxesSubplot:xlabel='prices', ylabel='prices'>"
      ]
     },
     "execution_count": 43,
     "metadata": {},
     "output_type": "execute_result"
    },
    {
     "data": {
      "image/png": "[encoded data removed]",
      "text/plain": [
       "<Figure size 640x480 with 1 Axes>"
      ]
     },
     "metadata": {},
     "output_type": "display_data"
    }
   ],
   "source": [
    "# Scatter plot\n",
    "sns.scatterplot(x = 'prices', y = 'prices', data = ords_prods_merge)"
   ]
  },
  {
   "cell_type": "code",
   "execution_count": 45,
   "id": "94626868",
   "metadata": {},
   "outputs": [
    {
     "data": {
      "text/html": [
       "<div>\n",
       "<style scoped>\n",
       "    .dataframe tbody tr th:only-of-type {\n",
       "        vertical-align: middle;\n",
       "    }\n",
       "\n",
       "    .dataframe tbody tr th {\n",
       "        vertical-align: top;\n",
       "    }\n",
       "\n",
       "    .dataframe thead th {\n",
       "        text-align: right;\n",
       "    }\n",
       "</style>\n",
       "<table border=\"1\" class=\"dataframe\">\n",
       "  <thead>\n",
       "    <tr style=\"text-align: right;\">\n",
       "      <th></th>\n",
       "      <th>order_id</th>\n",
       "      <th>user_id</th>\n",
       "      <th>order_number</th>\n",
       "      <th>orders_day_of_week</th>\n",
       "      <th>order_hour_of_day</th>\n",
       "      <th>days_since_prior_order</th>\n",
       "      <th>product_id</th>\n",
       "      <th>add_to_cart_order</th>\n",
       "      <th>reordered</th>\n",
       "      <th>product_name</th>\n",
       "      <th>aisle_id</th>\n",
       "      <th>department_id</th>\n",
       "      <th>prices</th>\n",
       "      <th>_merge</th>\n",
       "      <th>max_order</th>\n",
       "      <th>loyalty_flag</th>\n",
       "      <th>mean_price_of_products</th>\n",
       "      <th>spending_flag</th>\n",
       "      <th>median_days_since_prior_order</th>\n",
       "      <th>Regularity_of_customer</th>\n",
       "    </tr>\n",
       "  </thead>\n",
       "  <tbody>\n",
       "    <tr>\n",
       "      <th>10030345</th>\n",
       "      <td>912404</td>\n",
       "      <td>17</td>\n",
       "      <td>12</td>\n",
       "      <td>2</td>\n",
       "      <td>14</td>\n",
       "      <td>5.0</td>\n",
       "      <td>21553</td>\n",
       "      <td>5</td>\n",
       "      <td>0</td>\n",
       "      <td>Lowfat 2% Milkfat Cottage Cheese</td>\n",
       "      <td>108</td>\n",
       "      <td>16</td>\n",
       "      <td>14900.0</td>\n",
       "      <td>both</td>\n",
       "      <td>40</td>\n",
       "      <td>Regular customer</td>\n",
       "      <td>108.648299</td>\n",
       "      <td>High spender</td>\n",
       "      <td>5.0</td>\n",
       "      <td>Frequent customer</td>\n",
       "    </tr>\n",
       "    <tr>\n",
       "      <th>10030346</th>\n",
       "      <td>603376</td>\n",
       "      <td>17</td>\n",
       "      <td>22</td>\n",
       "      <td>6</td>\n",
       "      <td>16</td>\n",
       "      <td>4.0</td>\n",
       "      <td>21553</td>\n",
       "      <td>3</td>\n",
       "      <td>1</td>\n",
       "      <td>Lowfat 2% Milkfat Cottage Cheese</td>\n",
       "      <td>108</td>\n",
       "      <td>16</td>\n",
       "      <td>14900.0</td>\n",
       "      <td>both</td>\n",
       "      <td>40</td>\n",
       "      <td>Regular customer</td>\n",
       "      <td>108.648299</td>\n",
       "      <td>High spender</td>\n",
       "      <td>5.0</td>\n",
       "      <td>Frequent customer</td>\n",
       "    </tr>\n",
       "    <tr>\n",
       "      <th>10030347</th>\n",
       "      <td>3264360</td>\n",
       "      <td>135</td>\n",
       "      <td>2</td>\n",
       "      <td>2</td>\n",
       "      <td>21</td>\n",
       "      <td>13.0</td>\n",
       "      <td>21553</td>\n",
       "      <td>6</td>\n",
       "      <td>0</td>\n",
       "      <td>Lowfat 2% Milkfat Cottage Cheese</td>\n",
       "      <td>108</td>\n",
       "      <td>16</td>\n",
       "      <td>14900.0</td>\n",
       "      <td>both</td>\n",
       "      <td>4</td>\n",
       "      <td>New customer</td>\n",
       "      <td>1154.792308</td>\n",
       "      <td>High spender</td>\n",
       "      <td>12.0</td>\n",
       "      <td>Regular customer</td>\n",
       "    </tr>\n",
       "    <tr>\n",
       "      <th>10030348</th>\n",
       "      <td>892534</td>\n",
       "      <td>135</td>\n",
       "      <td>3</td>\n",
       "      <td>0</td>\n",
       "      <td>8</td>\n",
       "      <td>12.0</td>\n",
       "      <td>21553</td>\n",
       "      <td>3</td>\n",
       "      <td>1</td>\n",
       "      <td>Lowfat 2% Milkfat Cottage Cheese</td>\n",
       "      <td>108</td>\n",
       "      <td>16</td>\n",
       "      <td>14900.0</td>\n",
       "      <td>both</td>\n",
       "      <td>4</td>\n",
       "      <td>New customer</td>\n",
       "      <td>1154.792308</td>\n",
       "      <td>High spender</td>\n",
       "      <td>12.0</td>\n",
       "      <td>Regular customer</td>\n",
       "    </tr>\n",
       "    <tr>\n",
       "      <th>10030349</th>\n",
       "      <td>229704</td>\n",
       "      <td>342</td>\n",
       "      <td>8</td>\n",
       "      <td>1</td>\n",
       "      <td>19</td>\n",
       "      <td>30.0</td>\n",
       "      <td>21553</td>\n",
       "      <td>9</td>\n",
       "      <td>0</td>\n",
       "      <td>Lowfat 2% Milkfat Cottage Cheese</td>\n",
       "      <td>108</td>\n",
       "      <td>16</td>\n",
       "      <td>14900.0</td>\n",
       "      <td>both</td>\n",
       "      <td>16</td>\n",
       "      <td>Regular customer</td>\n",
       "      <td>114.426619</td>\n",
       "      <td>High spender</td>\n",
       "      <td>23.0</td>\n",
       "      <td>Non-frequent customer</td>\n",
       "    </tr>\n",
       "    <tr>\n",
       "      <th>...</th>\n",
       "      <td>...</td>\n",
       "      <td>...</td>\n",
       "      <td>...</td>\n",
       "      <td>...</td>\n",
       "      <td>...</td>\n",
       "      <td>...</td>\n",
       "      <td>...</td>\n",
       "      <td>...</td>\n",
       "      <td>...</td>\n",
       "      <td>...</td>\n",
       "      <td>...</td>\n",
       "      <td>...</td>\n",
       "      <td>...</td>\n",
       "      <td>...</td>\n",
       "      <td>...</td>\n",
       "      <td>...</td>\n",
       "      <td>...</td>\n",
       "      <td>...</td>\n",
       "      <td>...</td>\n",
       "      <td>...</td>\n",
       "    </tr>\n",
       "    <tr>\n",
       "      <th>29193268</th>\n",
       "      <td>2249946</td>\n",
       "      <td>204099</td>\n",
       "      <td>29</td>\n",
       "      <td>0</td>\n",
       "      <td>8</td>\n",
       "      <td>4.0</td>\n",
       "      <td>33664</td>\n",
       "      <td>1</td>\n",
       "      <td>0</td>\n",
       "      <td>2 % Reduced Fat  Milk</td>\n",
       "      <td>84</td>\n",
       "      <td>16</td>\n",
       "      <td>99999.0</td>\n",
       "      <td>both</td>\n",
       "      <td>39</td>\n",
       "      <td>Regular customer</td>\n",
       "      <td>1106.743956</td>\n",
       "      <td>High spender</td>\n",
       "      <td>4.0</td>\n",
       "      <td>Frequent customer</td>\n",
       "    </tr>\n",
       "    <tr>\n",
       "      <th>29193269</th>\n",
       "      <td>2363282</td>\n",
       "      <td>204099</td>\n",
       "      <td>31</td>\n",
       "      <td>0</td>\n",
       "      <td>9</td>\n",
       "      <td>2.0</td>\n",
       "      <td>33664</td>\n",
       "      <td>1</td>\n",
       "      <td>1</td>\n",
       "      <td>2 % Reduced Fat  Milk</td>\n",
       "      <td>84</td>\n",
       "      <td>16</td>\n",
       "      <td>99999.0</td>\n",
       "      <td>both</td>\n",
       "      <td>39</td>\n",
       "      <td>Regular customer</td>\n",
       "      <td>1106.743956</td>\n",
       "      <td>High spender</td>\n",
       "      <td>4.0</td>\n",
       "      <td>Frequent customer</td>\n",
       "    </tr>\n",
       "    <tr>\n",
       "      <th>29193270</th>\n",
       "      <td>3181945</td>\n",
       "      <td>204395</td>\n",
       "      <td>13</td>\n",
       "      <td>3</td>\n",
       "      <td>15</td>\n",
       "      <td>8.0</td>\n",
       "      <td>33664</td>\n",
       "      <td>25</td>\n",
       "      <td>0</td>\n",
       "      <td>2 % Reduced Fat  Milk</td>\n",
       "      <td>84</td>\n",
       "      <td>16</td>\n",
       "      <td>99999.0</td>\n",
       "      <td>both</td>\n",
       "      <td>15</td>\n",
       "      <td>Regular customer</td>\n",
       "      <td>451.153540</td>\n",
       "      <td>High spender</td>\n",
       "      <td>5.0</td>\n",
       "      <td>Frequent customer</td>\n",
       "    </tr>\n",
       "    <tr>\n",
       "      <th>29193271</th>\n",
       "      <td>2486215</td>\n",
       "      <td>205227</td>\n",
       "      <td>7</td>\n",
       "      <td>3</td>\n",
       "      <td>20</td>\n",
       "      <td>4.0</td>\n",
       "      <td>33664</td>\n",
       "      <td>8</td>\n",
       "      <td>0</td>\n",
       "      <td>2 % Reduced Fat  Milk</td>\n",
       "      <td>84</td>\n",
       "      <td>16</td>\n",
       "      <td>99999.0</td>\n",
       "      <td>both</td>\n",
       "      <td>12</td>\n",
       "      <td>Regular customer</td>\n",
       "      <td>1178.381871</td>\n",
       "      <td>High spender</td>\n",
       "      <td>12.0</td>\n",
       "      <td>Regular customer</td>\n",
       "    </tr>\n",
       "    <tr>\n",
       "      <th>29193272</th>\n",
       "      <td>2232716</td>\n",
       "      <td>205227</td>\n",
       "      <td>10</td>\n",
       "      <td>0</td>\n",
       "      <td>11</td>\n",
       "      <td>4.0</td>\n",
       "      <td>33664</td>\n",
       "      <td>23</td>\n",
       "      <td>1</td>\n",
       "      <td>2 % Reduced Fat  Milk</td>\n",
       "      <td>84</td>\n",
       "      <td>16</td>\n",
       "      <td>99999.0</td>\n",
       "      <td>both</td>\n",
       "      <td>12</td>\n",
       "      <td>Regular customer</td>\n",
       "      <td>1178.381871</td>\n",
       "      <td>High spender</td>\n",
       "      <td>12.0</td>\n",
       "      <td>Regular customer</td>\n",
       "    </tr>\n",
       "  </tbody>\n",
       "</table>\n",
       "<p>5127 rows × 20 columns</p>\n",
       "</div>"
      ],
      "text/plain": [
       "          order_id  user_id  order_number  orders_day_of_week  \\\n",
       "10030345    912404       17            12                   2   \n",
       "10030346    603376       17            22                   6   \n",
       "10030347   3264360      135             2                   2   \n",
       "10030348    892534      135             3                   0   \n",
       "10030349    229704      342             8                   1   \n",
       "...            ...      ...           ...                 ...   \n",
       "29193268   2249946   204099            29                   0   \n",
       "29193269   2363282   204099            31                   0   \n",
       "29193270   3181945   204395            13                   3   \n",
       "29193271   2486215   205227             7                   3   \n",
       "29193272   2232716   205227            10                   0   \n",
       "\n",
       "          order_hour_of_day  days_since_prior_order  product_id  \\\n",
       "10030345                 14                     5.0       21553   \n",
       "10030346                 16                     4.0       21553   \n",
       "10030347                 21                    13.0       21553   \n",
       "10030348                  8                    12.0       21553   \n",
       "10030349                 19                    30.0       21553   \n",
       "...                     ...                     ...         ...   \n",
       "29193268                  8                     4.0       33664   \n",
       "29193269                  9                     2.0       33664   \n",
       "29193270                 15                     8.0       33664   \n",
       "29193271                 20                     4.0       33664   \n",
       "29193272                 11                     4.0       33664   \n",
       "\n",
       "          add_to_cart_order  reordered                      product_name  \\\n",
       "10030345                  5          0  Lowfat 2% Milkfat Cottage Cheese   \n",
       "10030346                  3          1  Lowfat 2% Milkfat Cottage Cheese   \n",
       "10030347                  6          0  Lowfat 2% Milkfat Cottage Cheese   \n",
       "10030348                  3          1  Lowfat 2% Milkfat Cottage Cheese   \n",
       "10030349                  9          0  Lowfat 2% Milkfat Cottage Cheese   \n",
       "...                     ...        ...                               ...   \n",
       "29193268                  1          0             2 % Reduced Fat  Milk   \n",
       "29193269                  1          1             2 % Reduced Fat  Milk   \n",
       "29193270                 25          0             2 % Reduced Fat  Milk   \n",
       "29193271                  8          0             2 % Reduced Fat  Milk   \n",
       "29193272                 23          1             2 % Reduced Fat  Milk   \n",
       "\n",
       "          aisle_id  department_id   prices _merge  max_order  \\\n",
       "10030345       108             16  14900.0   both         40   \n",
       "10030346       108             16  14900.0   both         40   \n",
       "10030347       108             16  14900.0   both          4   \n",
       "10030348       108             16  14900.0   both          4   \n",
       "10030349       108             16  14900.0   both         16   \n",
       "...            ...            ...      ...    ...        ...   \n",
       "29193268        84             16  99999.0   both         39   \n",
       "29193269        84             16  99999.0   both         39   \n",
       "29193270        84             16  99999.0   both         15   \n",
       "29193271        84             16  99999.0   both         12   \n",
       "29193272        84             16  99999.0   both         12   \n",
       "\n",
       "              loyalty_flag  mean_price_of_products spending_flag  \\\n",
       "10030345  Regular customer              108.648299  High spender   \n",
       "10030346  Regular customer              108.648299  High spender   \n",
       "10030347      New customer             1154.792308  High spender   \n",
       "10030348      New customer             1154.792308  High spender   \n",
       "10030349  Regular customer              114.426619  High spender   \n",
       "...                    ...                     ...           ...   \n",
       "29193268  Regular customer             1106.743956  High spender   \n",
       "29193269  Regular customer             1106.743956  High spender   \n",
       "29193270  Regular customer              451.153540  High spender   \n",
       "29193271  Regular customer             1178.381871  High spender   \n",
       "29193272  Regular customer             1178.381871  High spender   \n",
       "\n",
       "          median_days_since_prior_order Regularity_of_customer  \n",
       "10030345                            5.0      Frequent customer  \n",
       "10030346                            5.0      Frequent customer  \n",
       "10030347                           12.0       Regular customer  \n",
       "10030348                           12.0       Regular customer  \n",
       "10030349                           23.0  Non-frequent customer  \n",
       "...                                 ...                    ...  \n",
       "29193268                            4.0      Frequent customer  \n",
       "29193269                            4.0      Frequent customer  \n",
       "29193270                            5.0      Frequent customer  \n",
       "29193271                           12.0       Regular customer  \n",
       "29193272                           12.0       Regular customer  \n",
       "\n",
       "[5127 rows x 20 columns]"
      ]
     },
     "execution_count": 45,
     "metadata": {},
     "output_type": "execute_result"
    }
   ],
   "source": [
    "ords_prods_merge.loc[ords_prods_merge['prices']>100]"
   ]
  },
  {
   "cell_type": "code",
   "execution_count": 51,
   "id": "5557dc25",
   "metadata": {},
   "outputs": [],
   "source": [
    "ords_prods_merge.loc[ords_prods_merge['prices'] > 100, 'prices'] = np.nan"
   ]
  },
  {
   "cell_type": "code",
   "execution_count": 52,
   "id": "470e2df4",
   "metadata": {
    "scrolled": true
   },
   "outputs": [
    {
     "data": {
      "text/plain": [
       "25.0"
      ]
     },
     "execution_count": 52,
     "metadata": {},
     "output_type": "execute_result"
    }
   ],
   "source": [
    "ords_prods_merge['prices'].max()"
   ]
  },
  {
   "cell_type": "code",
   "execution_count": 53,
   "id": "ef9357d8",
   "metadata": {},
   "outputs": [
    {
     "data": {
      "image/png": "[encoded data removed]",
      "text/plain": [
       "<Figure size 640x480 with 1 Axes>"
      ]
     },
     "metadata": {},
     "output_type": "display_data"
    }
   ],
   "source": [
    "hist = ords_prods_merge['prices'].plot.hist(bins = 25)"
   ]
  },
  {
   "cell_type": "code",
   "execution_count": 54,
   "id": "612c57c3",
   "metadata": {},
   "outputs": [
    {
     "data": {
      "image/png": "[encoded data removed]",
      "text/plain": [
       "<Figure size 640x480 with 1 Axes>"
      ]
     },
     "metadata": {},
     "output_type": "display_data"
    }
   ],
   "source": [
    "hist_2 = ords_prods_merge['prices'].plot.hist(bins = 70)"
   ]
  },
  {
   "cell_type": "code",
   "execution_count": 56,
   "id": "c3ea3d97",
   "metadata": {},
   "outputs": [],
   "source": [
    "# Exporting the Histogram\n",
    "hist.figure.savefig(os.path.join(path_name, '04_Analysis', 'Visualizations', 'hist_orders_dow.png'))"
   ]
  },
  {
   "cell_type": "code",
   "execution_count": 50,
   "id": "165d02f9",
   "metadata": {},
   "outputs": [],
   "source": [
    "# Creating a subset\n",
    "df = ords_prods_merge[:2000000]"
   ]
  },
  {
   "cell_type": "markdown",
   "id": "e2f3ca72",
   "metadata": {},
   "source": [
    "#04. Sampling Data"
   ]
  },
  {
   "cell_type": "code",
   "execution_count": 63,
   "id": "a156f0a9",
   "metadata": {},
   "outputs": [],
   "source": [
    "np.random.seed(4)"
   ]
  },
  {
   "cell_type": "code",
   "execution_count": 64,
   "id": "c85bc234",
   "metadata": {},
   "outputs": [],
   "source": [
    "# Create a list holding True/False values to the test np.random.rant()<=0.7\n",
    "dev = np.random.rand(len(ords_prods_merge)) <= 0.7"
   ]
  },
  {
   "cell_type": "code",
   "execution_count": 65,
   "id": "ba6b8686",
   "metadata": {},
   "outputs": [
    {
     "data": {
      "text/plain": [
       "array([False,  True, False, ..., False,  True,  True])"
      ]
     },
     "execution_count": 65,
     "metadata": {},
     "output_type": "execute_result"
    }
   ],
   "source": [
    "dev"
   ]
  },
  {
   "cell_type": "code",
   "execution_count": 66,
   "id": "92427f5c",
   "metadata": {},
   "outputs": [],
   "source": [
    "# Store 70% of the sample in the dataframe big\n",
    "big = ords_prods_merge[dev]"
   ]
  },
  {
   "cell_type": "code",
   "execution_count": 67,
   "id": "5082ebee",
   "metadata": {},
   "outputs": [],
   "source": [
    "# Store 30% of the sample in the dataframe small\n",
    "small = ords_prods_merge[~dev]"
   ]
  },
  {
   "cell_type": "code",
   "execution_count": 68,
   "id": "bc3002db",
   "metadata": {},
   "outputs": [
    {
     "data": {
      "text/plain": [
       "32434212"
      ]
     },
     "execution_count": 68,
     "metadata": {},
     "output_type": "execute_result"
    }
   ],
   "source": [
    "len(ords_prods_merge)"
   ]
  },
  {
   "cell_type": "code",
   "execution_count": 69,
   "id": "3b9fae9c",
   "metadata": {},
   "outputs": [
    {
     "data": {
      "text/plain": [
       "32434212"
      ]
     },
     "execution_count": 69,
     "metadata": {},
     "output_type": "execute_result"
    }
   ],
   "source": [
    "len(big) + len(small)"
   ]
  },
  {
   "cell_type": "code",
   "execution_count": 72,
   "id": "1ce89dfd",
   "metadata": {},
   "outputs": [
    {
     "data": {
      "text/html": [
       "<div>\n",
       "<style scoped>\n",
       "    .dataframe tbody tr th:only-of-type {\n",
       "        vertical-align: middle;\n",
       "    }\n",
       "\n",
       "    .dataframe tbody tr th {\n",
       "        vertical-align: top;\n",
       "    }\n",
       "\n",
       "    .dataframe thead th {\n",
       "        text-align: right;\n",
       "    }\n",
       "</style>\n",
       "<table border=\"1\" class=\"dataframe\">\n",
       "  <thead>\n",
       "    <tr style=\"text-align: right;\">\n",
       "      <th></th>\n",
       "      <th>order_id</th>\n",
       "      <th>user_id</th>\n",
       "      <th>order_number</th>\n",
       "      <th>orders_day_of_week</th>\n",
       "      <th>order_hour_of_day</th>\n",
       "      <th>days_since_prior_order</th>\n",
       "      <th>product_id</th>\n",
       "      <th>add_to_cart_order</th>\n",
       "      <th>reordered</th>\n",
       "      <th>aisle_id</th>\n",
       "      <th>department_id</th>\n",
       "      <th>prices</th>\n",
       "      <th>max_order</th>\n",
       "      <th>mean_price_of_products</th>\n",
       "      <th>median_days_since_prior_order</th>\n",
       "    </tr>\n",
       "  </thead>\n",
       "  <tbody>\n",
       "    <tr>\n",
       "      <th>count</th>\n",
       "      <td>2.270448e+07</td>\n",
       "      <td>2.270448e+07</td>\n",
       "      <td>2.270448e+07</td>\n",
       "      <td>2.270448e+07</td>\n",
       "      <td>2.270448e+07</td>\n",
       "      <td>2.124925e+07</td>\n",
       "      <td>2.270448e+07</td>\n",
       "      <td>2.270448e+07</td>\n",
       "      <td>2.270448e+07</td>\n",
       "      <td>2.270448e+07</td>\n",
       "      <td>2.270448e+07</td>\n",
       "      <td>2.270095e+07</td>\n",
       "      <td>2.270448e+07</td>\n",
       "      <td>2.270448e+07</td>\n",
       "      <td>2.270448e+07</td>\n",
       "    </tr>\n",
       "    <tr>\n",
       "      <th>mean</th>\n",
       "      <td>1.710829e+06</td>\n",
       "      <td>1.029423e+05</td>\n",
       "      <td>1.713873e+01</td>\n",
       "      <td>2.738320e+00</td>\n",
       "      <td>1.342533e+01</td>\n",
       "      <td>1.110533e+01</td>\n",
       "      <td>2.557837e+04</td>\n",
       "      <td>8.351015e+00</td>\n",
       "      <td>5.895946e-01</td>\n",
       "      <td>7.121600e+01</td>\n",
       "      <td>9.920640e+00</td>\n",
       "      <td>7.795887e+00</td>\n",
       "      <td>3.304743e+01</td>\n",
       "      <td>1.197336e+01</td>\n",
       "      <td>1.040063e+01</td>\n",
       "    </tr>\n",
       "    <tr>\n",
       "      <th>std</th>\n",
       "      <td>9.873582e+05</td>\n",
       "      <td>5.946996e+04</td>\n",
       "      <td>1.753423e+01</td>\n",
       "      <td>2.089886e+00</td>\n",
       "      <td>4.246156e+00</td>\n",
       "      <td>8.778805e+00</td>\n",
       "      <td>1.409746e+04</td>\n",
       "      <td>7.127937e+00</td>\n",
       "      <td>4.919073e-01</td>\n",
       "      <td>3.820231e+01</td>\n",
       "      <td>6.281038e+00</td>\n",
       "      <td>4.242939e+00</td>\n",
       "      <td>2.515290e+01</td>\n",
       "      <td>8.321899e+01</td>\n",
       "      <td>7.133093e+00</td>\n",
       "    </tr>\n",
       "    <tr>\n",
       "      <th>min</th>\n",
       "      <td>2.000000e+00</td>\n",
       "      <td>1.000000e+00</td>\n",
       "      <td>1.000000e+00</td>\n",
       "      <td>0.000000e+00</td>\n",
       "      <td>0.000000e+00</td>\n",
       "      <td>0.000000e+00</td>\n",
       "      <td>1.000000e+00</td>\n",
       "      <td>1.000000e+00</td>\n",
       "      <td>0.000000e+00</td>\n",
       "      <td>1.000000e+00</td>\n",
       "      <td>1.000000e+00</td>\n",
       "      <td>1.000000e+00</td>\n",
       "      <td>3.000000e+00</td>\n",
       "      <td>1.000000e+00</td>\n",
       "      <td>0.000000e+00</td>\n",
       "    </tr>\n",
       "    <tr>\n",
       "      <th>25%</th>\n",
       "      <td>8.560120e+05</td>\n",
       "      <td>5.141600e+04</td>\n",
       "      <td>5.000000e+00</td>\n",
       "      <td>1.000000e+00</td>\n",
       "      <td>1.000000e+01</td>\n",
       "      <td>5.000000e+00</td>\n",
       "      <td>1.353500e+04</td>\n",
       "      <td>3.000000e+00</td>\n",
       "      <td>0.000000e+00</td>\n",
       "      <td>3.100000e+01</td>\n",
       "      <td>4.000000e+00</td>\n",
       "      <td>4.200000e+00</td>\n",
       "      <td>1.300000e+01</td>\n",
       "      <td>7.392000e+00</td>\n",
       "      <td>6.000000e+00</td>\n",
       "    </tr>\n",
       "    <tr>\n",
       "      <th>50%</th>\n",
       "      <td>1.711155e+06</td>\n",
       "      <td>1.026190e+05</td>\n",
       "      <td>1.100000e+01</td>\n",
       "      <td>3.000000e+00</td>\n",
       "      <td>1.300000e+01</td>\n",
       "      <td>8.000000e+00</td>\n",
       "      <td>2.526600e+04</td>\n",
       "      <td>6.000000e+00</td>\n",
       "      <td>1.000000e+00</td>\n",
       "      <td>8.300000e+01</td>\n",
       "      <td>9.000000e+00</td>\n",
       "      <td>7.400000e+00</td>\n",
       "      <td>2.600000e+01</td>\n",
       "      <td>7.829467e+00</td>\n",
       "      <td>8.000000e+00</td>\n",
       "    </tr>\n",
       "    <tr>\n",
       "      <th>75%</th>\n",
       "      <td>2.565689e+06</td>\n",
       "      <td>1.544090e+05</td>\n",
       "      <td>2.400000e+01</td>\n",
       "      <td>5.000000e+00</td>\n",
       "      <td>1.600000e+01</td>\n",
       "      <td>1.500000e+01</td>\n",
       "      <td>3.794000e+04</td>\n",
       "      <td>1.100000e+01</td>\n",
       "      <td>1.000000e+00</td>\n",
       "      <td>1.070000e+02</td>\n",
       "      <td>1.600000e+01</td>\n",
       "      <td>1.130000e+01</td>\n",
       "      <td>4.700000e+01</td>\n",
       "      <td>8.258611e+00</td>\n",
       "      <td>1.300000e+01</td>\n",
       "    </tr>\n",
       "    <tr>\n",
       "      <th>max</th>\n",
       "      <td>3.421083e+06</td>\n",
       "      <td>2.062090e+05</td>\n",
       "      <td>9.900000e+01</td>\n",
       "      <td>6.000000e+00</td>\n",
       "      <td>2.300000e+01</td>\n",
       "      <td>3.000000e+01</td>\n",
       "      <td>4.968800e+04</td>\n",
       "      <td>1.440000e+02</td>\n",
       "      <td>1.000000e+00</td>\n",
       "      <td>1.340000e+02</td>\n",
       "      <td>2.100000e+01</td>\n",
       "      <td>2.500000e+01</td>\n",
       "      <td>9.900000e+01</td>\n",
       "      <td>2.500542e+04</td>\n",
       "      <td>3.000000e+01</td>\n",
       "    </tr>\n",
       "  </tbody>\n",
       "</table>\n",
       "</div>"
      ],
      "text/plain": [
       "           order_id       user_id  order_number  orders_day_of_week  \\\n",
       "count  2.270448e+07  2.270448e+07  2.270448e+07        2.270448e+07   \n",
       "mean   1.710829e+06  1.029423e+05  1.713873e+01        2.738320e+00   \n",
       "std    9.873582e+05  5.946996e+04  1.753423e+01        2.089886e+00   \n",
       "min    2.000000e+00  1.000000e+00  1.000000e+00        0.000000e+00   \n",
       "25%    8.560120e+05  5.141600e+04  5.000000e+00        1.000000e+00   \n",
       "50%    1.711155e+06  1.026190e+05  1.100000e+01        3.000000e+00   \n",
       "75%    2.565689e+06  1.544090e+05  2.400000e+01        5.000000e+00   \n",
       "max    3.421083e+06  2.062090e+05  9.900000e+01        6.000000e+00   \n",
       "\n",
       "       order_hour_of_day  days_since_prior_order    product_id  \\\n",
       "count       2.270448e+07            2.124925e+07  2.270448e+07   \n",
       "mean        1.342533e+01            1.110533e+01  2.557837e+04   \n",
       "std         4.246156e+00            8.778805e+00  1.409746e+04   \n",
       "min         0.000000e+00            0.000000e+00  1.000000e+00   \n",
       "25%         1.000000e+01            5.000000e+00  1.353500e+04   \n",
       "50%         1.300000e+01            8.000000e+00  2.526600e+04   \n",
       "75%         1.600000e+01            1.500000e+01  3.794000e+04   \n",
       "max         2.300000e+01            3.000000e+01  4.968800e+04   \n",
       "\n",
       "       add_to_cart_order     reordered      aisle_id  department_id  \\\n",
       "count       2.270448e+07  2.270448e+07  2.270448e+07   2.270448e+07   \n",
       "mean        8.351015e+00  5.895946e-01  7.121600e+01   9.920640e+00   \n",
       "std         7.127937e+00  4.919073e-01  3.820231e+01   6.281038e+00   \n",
       "min         1.000000e+00  0.000000e+00  1.000000e+00   1.000000e+00   \n",
       "25%         3.000000e+00  0.000000e+00  3.100000e+01   4.000000e+00   \n",
       "50%         6.000000e+00  1.000000e+00  8.300000e+01   9.000000e+00   \n",
       "75%         1.100000e+01  1.000000e+00  1.070000e+02   1.600000e+01   \n",
       "max         1.440000e+02  1.000000e+00  1.340000e+02   2.100000e+01   \n",
       "\n",
       "             prices     max_order  mean_price_of_products  \\\n",
       "count  2.270095e+07  2.270448e+07            2.270448e+07   \n",
       "mean   7.795887e+00  3.304743e+01            1.197336e+01   \n",
       "std    4.242939e+00  2.515290e+01            8.321899e+01   \n",
       "min    1.000000e+00  3.000000e+00            1.000000e+00   \n",
       "25%    4.200000e+00  1.300000e+01            7.392000e+00   \n",
       "50%    7.400000e+00  2.600000e+01            7.829467e+00   \n",
       "75%    1.130000e+01  4.700000e+01            8.258611e+00   \n",
       "max    2.500000e+01  9.900000e+01            2.500542e+04   \n",
       "\n",
       "       median_days_since_prior_order  \n",
       "count                   2.270448e+07  \n",
       "mean                    1.040063e+01  \n",
       "std                     7.133093e+00  \n",
       "min                     0.000000e+00  \n",
       "25%                     6.000000e+00  \n",
       "50%                     8.000000e+00  \n",
       "75%                     1.300000e+01  \n",
       "max                     3.000000e+01  "
      ]
     },
     "execution_count": 72,
     "metadata": {},
     "output_type": "execute_result"
    }
   ],
   "source": [
    "big.describe()"
   ]
  },
  {
   "cell_type": "code",
   "execution_count": 75,
   "id": "735dc554",
   "metadata": {},
   "outputs": [
    {
     "data": {
      "text/html": [
       "<div>\n",
       "<style scoped>\n",
       "    .dataframe tbody tr th:only-of-type {\n",
       "        vertical-align: middle;\n",
       "    }\n",
       "\n",
       "    .dataframe tbody tr th {\n",
       "        vertical-align: top;\n",
       "    }\n",
       "\n",
       "    .dataframe thead th {\n",
       "        text-align: right;\n",
       "    }\n",
       "</style>\n",
       "<table border=\"1\" class=\"dataframe\">\n",
       "  <thead>\n",
       "    <tr style=\"text-align: right;\">\n",
       "      <th></th>\n",
       "      <th>order_id</th>\n",
       "      <th>user_id</th>\n",
       "      <th>order_number</th>\n",
       "      <th>orders_day_of_week</th>\n",
       "      <th>order_hour_of_day</th>\n",
       "      <th>days_since_prior_order</th>\n",
       "      <th>product_id</th>\n",
       "      <th>add_to_cart_order</th>\n",
       "      <th>reordered</th>\n",
       "      <th>aisle_id</th>\n",
       "      <th>department_id</th>\n",
       "      <th>prices</th>\n",
       "      <th>max_order</th>\n",
       "      <th>mean_price_of_products</th>\n",
       "      <th>median_days_since_prior_order</th>\n",
       "    </tr>\n",
       "  </thead>\n",
       "  <tbody>\n",
       "    <tr>\n",
       "      <th>count</th>\n",
       "      <td>9.729729e+06</td>\n",
       "      <td>9.729729e+06</td>\n",
       "      <td>9.729729e+06</td>\n",
       "      <td>9.729729e+06</td>\n",
       "      <td>9.729729e+06</td>\n",
       "      <td>9.106879e+06</td>\n",
       "      <td>9.729729e+06</td>\n",
       "      <td>9.729729e+06</td>\n",
       "      <td>9.729729e+06</td>\n",
       "      <td>9.729729e+06</td>\n",
       "      <td>9.729729e+06</td>\n",
       "      <td>9.728138e+06</td>\n",
       "      <td>9.729729e+06</td>\n",
       "      <td>9.729729e+06</td>\n",
       "      <td>9.729729e+06</td>\n",
       "    </tr>\n",
       "    <tr>\n",
       "      <th>mean</th>\n",
       "      <td>1.710559e+06</td>\n",
       "      <td>1.029258e+05</td>\n",
       "      <td>1.714939e+01</td>\n",
       "      <td>2.739953e+00</td>\n",
       "      <td>1.342422e+01</td>\n",
       "      <td>1.110144e+01</td>\n",
       "      <td>2.557641e+04</td>\n",
       "      <td>8.351552e+00</td>\n",
       "      <td>5.899084e-01</td>\n",
       "      <td>7.121764e+01</td>\n",
       "      <td>9.925943e+00</td>\n",
       "      <td>7.795278e+00</td>\n",
       "      <td>3.306322e+01</td>\n",
       "      <td>1.199932e+01</td>\n",
       "      <td>1.039167e+01</td>\n",
       "    </tr>\n",
       "    <tr>\n",
       "      <th>std</th>\n",
       "      <td>9.871628e+05</td>\n",
       "      <td>5.945840e+04</td>\n",
       "      <td>1.753643e+01</td>\n",
       "      <td>2.090424e+00</td>\n",
       "      <td>4.246807e+00</td>\n",
       "      <td>8.779265e+00</td>\n",
       "      <td>1.409305e+04</td>\n",
       "      <td>7.123774e+00</td>\n",
       "      <td>4.918501e-01</td>\n",
       "      <td>3.820891e+01</td>\n",
       "      <td>6.281542e+00</td>\n",
       "      <td>4.243640e+00</td>\n",
       "      <td>2.515821e+01</td>\n",
       "      <td>8.312521e+01</td>\n",
       "      <td>7.126879e+00</td>\n",
       "    </tr>\n",
       "    <tr>\n",
       "      <th>min</th>\n",
       "      <td>2.000000e+00</td>\n",
       "      <td>1.000000e+00</td>\n",
       "      <td>1.000000e+00</td>\n",
       "      <td>0.000000e+00</td>\n",
       "      <td>0.000000e+00</td>\n",
       "      <td>0.000000e+00</td>\n",
       "      <td>1.000000e+00</td>\n",
       "      <td>1.000000e+00</td>\n",
       "      <td>0.000000e+00</td>\n",
       "      <td>1.000000e+00</td>\n",
       "      <td>1.000000e+00</td>\n",
       "      <td>1.000000e+00</td>\n",
       "      <td>3.000000e+00</td>\n",
       "      <td>1.000000e+00</td>\n",
       "      <td>0.000000e+00</td>\n",
       "    </tr>\n",
       "    <tr>\n",
       "      <th>25%</th>\n",
       "      <td>8.557910e+05</td>\n",
       "      <td>5.142600e+04</td>\n",
       "      <td>5.000000e+00</td>\n",
       "      <td>1.000000e+00</td>\n",
       "      <td>1.000000e+01</td>\n",
       "      <td>5.000000e+00</td>\n",
       "      <td>1.353500e+04</td>\n",
       "      <td>3.000000e+00</td>\n",
       "      <td>0.000000e+00</td>\n",
       "      <td>3.100000e+01</td>\n",
       "      <td>4.000000e+00</td>\n",
       "      <td>4.200000e+00</td>\n",
       "      <td>1.300000e+01</td>\n",
       "      <td>7.391824e+00</td>\n",
       "      <td>6.000000e+00</td>\n",
       "    </tr>\n",
       "    <tr>\n",
       "      <th>50%</th>\n",
       "      <td>1.710832e+06</td>\n",
       "      <td>1.025980e+05</td>\n",
       "      <td>1.100000e+01</td>\n",
       "      <td>3.000000e+00</td>\n",
       "      <td>1.300000e+01</td>\n",
       "      <td>8.000000e+00</td>\n",
       "      <td>2.524700e+04</td>\n",
       "      <td>6.000000e+00</td>\n",
       "      <td>1.000000e+00</td>\n",
       "      <td>8.300000e+01</td>\n",
       "      <td>9.000000e+00</td>\n",
       "      <td>7.400000e+00</td>\n",
       "      <td>2.600000e+01</td>\n",
       "      <td>7.829358e+00</td>\n",
       "      <td>8.000000e+00</td>\n",
       "    </tr>\n",
       "    <tr>\n",
       "      <th>75%</th>\n",
       "      <td>2.565051e+06</td>\n",
       "      <td>1.543590e+05</td>\n",
       "      <td>2.400000e+01</td>\n",
       "      <td>5.000000e+00</td>\n",
       "      <td>1.600000e+01</td>\n",
       "      <td>1.500000e+01</td>\n",
       "      <td>3.791900e+04</td>\n",
       "      <td>1.100000e+01</td>\n",
       "      <td>1.000000e+00</td>\n",
       "      <td>1.070000e+02</td>\n",
       "      <td>1.600000e+01</td>\n",
       "      <td>1.130000e+01</td>\n",
       "      <td>4.700000e+01</td>\n",
       "      <td>8.258761e+00</td>\n",
       "      <td>1.300000e+01</td>\n",
       "    </tr>\n",
       "    <tr>\n",
       "      <th>max</th>\n",
       "      <td>3.421083e+06</td>\n",
       "      <td>2.062090e+05</td>\n",
       "      <td>9.900000e+01</td>\n",
       "      <td>6.000000e+00</td>\n",
       "      <td>2.300000e+01</td>\n",
       "      <td>3.000000e+01</td>\n",
       "      <td>4.968800e+04</td>\n",
       "      <td>1.450000e+02</td>\n",
       "      <td>1.000000e+00</td>\n",
       "      <td>1.340000e+02</td>\n",
       "      <td>2.100000e+01</td>\n",
       "      <td>2.500000e+01</td>\n",
       "      <td>9.900000e+01</td>\n",
       "      <td>2.500542e+04</td>\n",
       "      <td>3.000000e+01</td>\n",
       "    </tr>\n",
       "  </tbody>\n",
       "</table>\n",
       "</div>"
      ],
      "text/plain": [
       "           order_id       user_id  order_number  orders_day_of_week  \\\n",
       "count  9.729729e+06  9.729729e+06  9.729729e+06        9.729729e+06   \n",
       "mean   1.710559e+06  1.029258e+05  1.714939e+01        2.739953e+00   \n",
       "std    9.871628e+05  5.945840e+04  1.753643e+01        2.090424e+00   \n",
       "min    2.000000e+00  1.000000e+00  1.000000e+00        0.000000e+00   \n",
       "25%    8.557910e+05  5.142600e+04  5.000000e+00        1.000000e+00   \n",
       "50%    1.710832e+06  1.025980e+05  1.100000e+01        3.000000e+00   \n",
       "75%    2.565051e+06  1.543590e+05  2.400000e+01        5.000000e+00   \n",
       "max    3.421083e+06  2.062090e+05  9.900000e+01        6.000000e+00   \n",
       "\n",
       "       order_hour_of_day  days_since_prior_order    product_id  \\\n",
       "count       9.729729e+06            9.106879e+06  9.729729e+06   \n",
       "mean        1.342422e+01            1.110144e+01  2.557641e+04   \n",
       "std         4.246807e+00            8.779265e+00  1.409305e+04   \n",
       "min         0.000000e+00            0.000000e+00  1.000000e+00   \n",
       "25%         1.000000e+01            5.000000e+00  1.353500e+04   \n",
       "50%         1.300000e+01            8.000000e+00  2.524700e+04   \n",
       "75%         1.600000e+01            1.500000e+01  3.791900e+04   \n",
       "max         2.300000e+01            3.000000e+01  4.968800e+04   \n",
       "\n",
       "       add_to_cart_order     reordered      aisle_id  department_id  \\\n",
       "count       9.729729e+06  9.729729e+06  9.729729e+06   9.729729e+06   \n",
       "mean        8.351552e+00  5.899084e-01  7.121764e+01   9.925943e+00   \n",
       "std         7.123774e+00  4.918501e-01  3.820891e+01   6.281542e+00   \n",
       "min         1.000000e+00  0.000000e+00  1.000000e+00   1.000000e+00   \n",
       "25%         3.000000e+00  0.000000e+00  3.100000e+01   4.000000e+00   \n",
       "50%         6.000000e+00  1.000000e+00  8.300000e+01   9.000000e+00   \n",
       "75%         1.100000e+01  1.000000e+00  1.070000e+02   1.600000e+01   \n",
       "max         1.450000e+02  1.000000e+00  1.340000e+02   2.100000e+01   \n",
       "\n",
       "             prices     max_order  mean_price_of_products  \\\n",
       "count  9.728138e+06  9.729729e+06            9.729729e+06   \n",
       "mean   7.795278e+00  3.306322e+01            1.199932e+01   \n",
       "std    4.243640e+00  2.515821e+01            8.312521e+01   \n",
       "min    1.000000e+00  3.000000e+00            1.000000e+00   \n",
       "25%    4.200000e+00  1.300000e+01            7.391824e+00   \n",
       "50%    7.400000e+00  2.600000e+01            7.829358e+00   \n",
       "75%    1.130000e+01  4.700000e+01            8.258761e+00   \n",
       "max    2.500000e+01  9.900000e+01            2.500542e+04   \n",
       "\n",
       "       median_days_since_prior_order  \n",
       "count                   9.729729e+06  \n",
       "mean                    1.039167e+01  \n",
       "std                     7.126879e+00  \n",
       "min                     0.000000e+00  \n",
       "25%                     6.000000e+00  \n",
       "50%                     8.000000e+00  \n",
       "75%                     1.300000e+01  \n",
       "max                     3.000000e+01  "
      ]
     },
     "execution_count": 75,
     "metadata": {},
     "output_type": "execute_result"
    }
   ],
   "source": [
    "small.describe()"
   ]
  },
  {
   "cell_type": "markdown",
   "id": "6d906ac8",
   "metadata": {},
   "source": [
    "The ords_prods_merge dataframe has been split into two samples - big and small - with a 70/30 ratio. The describe function has been used to check the descriptive statistics of the sample data frames. As seen above, the 30 percent sample statistically resembles the 70 percent sample."
   ]
  },
  {
   "cell_type": "markdown",
   "id": "a78ead45",
   "metadata": {},
   "source": [
    "#04. Line Charts"
   ]
  },
  {
   "cell_type": "code",
   "execution_count": 76,
   "id": "cbcc1466",
   "metadata": {},
   "outputs": [],
   "source": [
    "df_2 = small[['orders_day_of_week', 'prices']]"
   ]
  },
  {
   "cell_type": "code",
   "execution_count": 77,
   "id": "8dfff517",
   "metadata": {},
   "outputs": [
    {
     "data": {
      "image/png": "[encoded data removed]",
      "text/plain": [
       "<Figure size 640x480 with 1 Axes>"
      ]
     },
     "metadata": {},
     "output_type": "display_data"
    }
   ],
   "source": [
    "line = sns.lineplot(data = df_2, x = 'orders_day_of_week', y = 'prices')"
   ]
  },
  {
   "cell_type": "code",
   "execution_count": 78,
   "id": "3783cb59",
   "metadata": {},
   "outputs": [],
   "source": [
    "# Exporting the Line chart\n",
    "line.figure.savefig(os.path.join(path_name, '04_Analysis', 'Visualizations', 'hist_orders_dow.png'))"
   ]
  },
  {
   "cell_type": "code",
   "execution_count": null,
   "id": "6b59ae81",
   "metadata": {},
   "outputs": [],
   "source": []
  }
 ],
 "metadata": {
  "kernelspec": {
   "display_name": "Python 3 (ipykernel)",
   "language": "python",
   "name": "python3"
  },
  "language_info": {
   "codemirror_mode": {
    "name": "ipython",
    "version": 3
   },
   "file_extension": ".py",
   "mimetype": "text/x-python",
   "name": "python",
   "nbconvert_exporter": "python",
   "pygments_lexer": "ipython3",
   "version": "3.9.13"
  }
 },
 "nbformat": 4,
 "nbformat_minor": 5
}
